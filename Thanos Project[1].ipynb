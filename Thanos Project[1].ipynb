{
 "cells": [
  {
   "cell_type": "markdown",
   "metadata": {},
   "source": [
    "- Make a copy of the Universe images in the backup folder.\n",
    "- make a function to kill half the images randomly.\n",
    "- call the func several times to kill the entire population( half the number of images each time).\n",
    "- Import the images again to the universe folder from the backup folder.\n",
    "- Create another folder and take a copy from the images with different random names consisting of 5 letters."
   ]
  },
  {
   "cell_type": "code",
   "execution_count": 1,
   "metadata": {},
   "outputs": [
    {
     "data": {
      "text/plain": [
       "'D:\\\\Thanos Project\\\\backup'"
      ]
     },
     "execution_count": 1,
     "metadata": {},
     "output_type": "execute_result"
    }
   ],
   "source": [
    "import os\n",
    "import shutil\n",
    "import random\n",
    "import string\n",
    "\n",
    "universe = \"D:\\\\Thanos Project\\\\universe\"\n",
    "backup = \"D:\\\\Thanos Project\\\\backup\"\n",
    "new_folder = \"D:\\\\Thanos Project\\\\new_folder\"\n",
    "\n",
    "shutil.copytree(universe, backup, dirs_exist_ok=True)"
   ]
  },
  {
   "cell_type": "code",
   "execution_count": 2,
   "metadata": {},
   "outputs": [],
   "source": [
    "def remove_half_randomly(folder):\n",
    "    files = os.listdir(folder)\n",
    "    files_to_remove = random.sample(files, len(files) // 2)\n",
    "    for file in files_to_remove:\n",
    "        os.remove(os.path.join(folder, file))"
   ]
  },
  {
   "cell_type": "code",
   "execution_count": 3,
   "metadata": {},
   "outputs": [],
   "source": [
    "def clear_universe_folder(universe):\n",
    "    while len(os.listdir(universe))>1:\n",
    "        remove_half_randomly(universe)\n",
    "\n",
    "clear_universe_folder(universe)"
   ]
  },
  {
   "cell_type": "code",
   "execution_count": 4,
   "metadata": {},
   "outputs": [
    {
     "data": {
      "text/plain": [
       "'D:\\\\Thanos Project\\\\universe'"
      ]
     },
     "execution_count": 4,
     "metadata": {},
     "output_type": "execute_result"
    }
   ],
   "source": [
    "shutil.copytree(backup, universe, dirs_exist_ok=True)"
   ]
  },
  {
   "cell_type": "code",
   "execution_count": 5,
   "metadata": {},
   "outputs": [],
   "source": [
    "if not os.path.exists(new_folder):\n",
    "    os.makedirs(new_folder)\n",
    "\n",
    "def copy_with_random_names(source_folder, destination_folder):\n",
    "    for file in os.listdir(source_folder):\n",
    "        random_name = ''.join(random.choices(string.ascii_letters, k=5)) + os.path.splitext(file)[1]\n",
    "        shutil.copy(os.path.join(source_folder, file), os.path.join(destination_folder, random_name))\n",
    "\n",
    "copy_with_random_names(backup, new_folder)"
   ]
  }
 ],
 "metadata": {
  "kernelspec": {
   "display_name": "Python 3",
   "language": "python",
   "name": "python3"
  },
  "language_info": {
   "codemirror_mode": {
    "name": "ipython",
    "version": 3
   },
   "file_extension": ".py",
   "mimetype": "text/x-python",
   "name": "python",
   "nbconvert_exporter": "python",
   "pygments_lexer": "ipython3",
   "version": "3.11.5"
  }
 },
 "nbformat": 4,
 "nbformat_minor": 2
}
